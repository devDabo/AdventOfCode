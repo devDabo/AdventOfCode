{
 "cells": [
  {
   "cell_type": "markdown",
   "metadata": {},
   "source": [
    "Part One"
   ]
  },
  {
   "cell_type": "code",
   "execution_count": null,
   "metadata": {},
   "outputs": [
    {
     "name": "stdout",
     "output_type": "stream",
     "text": [
      "173785482\n"
     ]
    }
   ],
   "source": [
    "def sum_valid_mul_instructions(corrupted_memory: str) -> int:\n",
    "    total = 0\n",
    "    i = 0\n",
    "    while True:\n",
    "        start = corrupted_memory.find(\"mul(\", i)\n",
    "        if start == -1:\n",
    "            break\n",
    "        i = start + 4 \n",
    "        j = i\n",
    "        while j < len(corrupted_memory) and corrupted_memory[j].isdigit():\n",
    "            j += 1\n",
    "        first_num_str = corrupted_memory[i:j]\n",
    "        if not (1 <= len(first_num_str) <= 3 and first_num_str.isdigit()):\n",
    "            continue\n",
    "        if j >= len(corrupted_memory) or corrupted_memory[j] != ',':\n",
    "            continue  \n",
    "        j += 1\n",
    "        k = j\n",
    "        while k < len(corrupted_memory) and corrupted_memory[k].isdigit():\n",
    "            k += 1\n",
    "        second_num_str = corrupted_memory[j:k]\n",
    "        if not (1 <= len(second_num_str) <= 3 and second_num_str.isdigit()):\n",
    "            continue\n",
    "        if k >= len(corrupted_memory) or corrupted_memory[k] != ')':\n",
    "            continue\n",
    "        x = int(first_num_str)\n",
    "        y = int(second_num_str)\n",
    "        total += x * y\n",
    "        i = k + 1\n",
    "    return total\n",
    "if __name__ == \"__main__\":\n",
    "    with open(\"input.txt\", \"r\") as f:\n",
    "        corrupted_input = f.read()\n",
    "    result = sum_valid_mul_instructions(corrupted_input)\n",
    "    print(result)"
   ]
  },
  {
   "cell_type": "markdown",
   "metadata": {},
   "source": [
    "Time complexity: O(n^2)\n",
    "\n",
    "This one was quite hard."
   ]
  },
  {
   "cell_type": "code",
   "execution_count": null,
   "metadata": {},
   "outputs": [
    {
     "name": "stdout",
     "output_type": "stream",
     "text": [
      "83158140\n"
     ]
    }
   ],
   "source": [
    "def sum_enabled_mul_instructions(corrupted_memory: str) -> int:\n",
    "    total = 0\n",
    "    enabled = True\n",
    "    i = 0\n",
    "    \n",
    "    while i < len(corrupted_memory):\n",
    "        if corrupted_memory[i:i+4] == \"do()\":\n",
    "            enabled = True\n",
    "            i += 4\n",
    "            continue\n",
    "        if corrupted_memory[i:i+7] == \"don't()\":\n",
    "            enabled = False\n",
    "            i += 7\n",
    "            continue\n",
    "        if corrupted_memory[i:i+3] == \"do(\":\n",
    "            # Check if next char is ')'\n",
    "            if i+4 < len(corrupted_memory) and corrupted_memory[i+3] == ')':\n",
    "                enabled = True\n",
    "                i += 4\n",
    "                continue\n",
    "        if corrupted_memory[i:i+5] == \"don't\":\n",
    "            if i+7 <= len(corrupted_memory) and corrupted_memory[i+5:i+7] == \"()\":\n",
    "                enabled = False\n",
    "                i += 7\n",
    "                continue\n",
    "        if corrupted_memory[i:i+4] == \"mul(\":\n",
    "            j = i + 4\n",
    "            start_first = j\n",
    "            while j < len(corrupted_memory) and corrupted_memory[j].isdigit():\n",
    "                j += 1\n",
    "            first_num_str = corrupted_memory[start_first:j]\n",
    "            if len(first_num_str) < 1 or len(first_num_str) > 3:\n",
    "                i += 1\n",
    "                continue\n",
    "            if j >= len(corrupted_memory) or corrupted_memory[j] != ',':\n",
    "                i += 1\n",
    "                continue\n",
    "            j += 1\n",
    "            start_second = j\n",
    "            while j < len(corrupted_memory) and corrupted_memory[j].isdigit():\n",
    "                j += 1\n",
    "            second_num_str = corrupted_memory[start_second:j]\n",
    "            if len(second_num_str) < 1 or len(second_num_str) > 3:\n",
    "                i += 1\n",
    "                continue\n",
    "            if j >= len(corrupted_memory) or corrupted_memory[j] != ')':\n",
    "                i += 1\n",
    "                continue\n",
    "            x = int(first_num_str)\n",
    "            y = int(second_num_str)\n",
    "            if enabled:\n",
    "                total += x * y\n",
    "            i = j + 1\n",
    "        else:\n",
    "            i += 1\n",
    "    return total\n",
    "if __name__ == \"__main__\":\n",
    "    with open(\"input.txt\", \"r\") as f:\n",
    "        corrupted_input = f.read()\n",
    "    result = sum_enabled_mul_instructions(corrupted_input)\n",
    "    print(result)"
   ]
  },
  {
   "cell_type": "markdown",
   "metadata": {},
   "source": [
    "Time complexity: O(N)"
   ]
  }
 ],
 "metadata": {
  "kernelspec": {
   "display_name": "Python 3",
   "language": "python",
   "name": "python3"
  },
  "language_info": {
   "codemirror_mode": {
    "name": "ipython",
    "version": 3
   },
   "file_extension": ".py",
   "mimetype": "text/x-python",
   "name": "python",
   "nbconvert_exporter": "python",
   "pygments_lexer": "ipython3",
   "version": "3.9.6"
  }
 },
 "nbformat": 4,
 "nbformat_minor": 2
}
