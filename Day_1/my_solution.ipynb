{
 "cells": [
  {
   "cell_type": "code",
   "execution_count": null,
   "metadata": {},
   "outputs": [
    {
     "name": "stdout",
     "output_type": "stream",
     "text": [
      "2192892\n",
      "22962826\n"
     ]
    }
   ],
   "source": [
    "def read_fie(file_name):\n",
    "    with open(file_name, 'r') as data:\n",
    "        x = []\n",
    "        y = []\n",
    "        for line in data:\n",
    "            p = line.split()\n",
    "            x.append(int(p[0]))\n",
    "            y.append(int(p[1]))\n",
    "    return x, y\n",
    "\n",
    "x, y = read_file('input.txt')\n",
    "\n",
    "list_left = sorted(x)\n",
    "list_right = sorted(y)\n",
    "\n",
    "result = sum([abs(x-y) for x, y in zip(list_right, list_left)])\n",
    "similarity_score = sum((x * list_right.count(x) for x in list_left))\n",
    "\n",
    "print(result) #part 1\n",
    "print(similarity_score) #part 2\n"
   ]
  }
 ],
 "metadata": {
  "kernelspec": {
   "display_name": "Python 3",
   "language": "python",
   "name": "python3"
  },
  "language_info": {
   "codemirror_mode": {
    "name": "ipython",
    "version": 3
   },
   "file_extension": ".py",
   "mimetype": "text/x-python",
   "name": "python",
   "nbconvert_exporter": "python",
   "pygments_lexer": "ipython3",
   "version": "3.12.8"
  }
 },
 "nbformat": 4,
 "nbformat_minor": 2
}
