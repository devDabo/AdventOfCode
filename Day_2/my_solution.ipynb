{
 "cells": [
  {
   "cell_type": "markdown",
   "metadata": {},
   "source": [
    "Part One"
   ]
  },
  {
   "cell_type": "code",
   "execution_count": null,
   "metadata": {},
   "outputs": [
    {
     "name": "stdout",
     "output_type": "stream",
     "text": [
      "534\n"
     ]
    }
   ],
   "source": [
    "def read_file(file_name):\n",
    "    reports = []\n",
    "    with open(file_name, 'r') as data:\n",
    "        for line in data:\n",
    "            report = [int(num) for num in line.strip().split()]\n",
    "            reports.append(report)\n",
    "    return reports\n",
    "\n",
    "def is_safe(report):\n",
    "    is_increasing = all(report[i]<report[i+1] for i in range(len(report) -1))\n",
    "    decreasing = all(report[i] > report[i+1] for i in range(len(report)-1))\n",
    "    are_valid_differences = all(1<= abs(report[i]-report[i+1]) <= 3 for i in range(len(report) -1))\n",
    "    return (is_increasing or decreasing) and are_valid_differences\n",
    "\n",
    "def total_safe_reports(reports):\n",
    "    return sum(is_safe(report) for report in reports)\n",
    "\n",
    "if __name__ == \"__main__\":\n",
    "    reports = read_file('input.txt')\n",
    "    number_of_safe_reports=total_safe_reports(reports)\n",
    "    print(number_of_safe_reports)"
   ]
  },
  {
   "cell_type": "markdown",
   "metadata": {},
   "source": [
    "Time Complexity: O(n)"
   ]
  },
  {
   "cell_type": "markdown",
   "metadata": {},
   "source": [
    "Part Two"
   ]
  },
  {
   "cell_type": "code",
   "execution_count": null,
   "metadata": {},
   "outputs": [
    {
     "name": "stdout",
     "output_type": "stream",
     "text": [
      "577\n"
     ]
    }
   ],
   "source": [
    "def read_file(file_name):\n",
    "    reports = []\n",
    "    with open(file_name, 'r') as data:\n",
    "        for line in data:\n",
    "            report = [int(num) for num in line.strip().split()]\n",
    "            reports.append(report)\n",
    "    return reports\n",
    "\n",
    "def is_safe(report):\n",
    "    is_increasing = all(report[i]<report[i+1] for i in range(len(report) -1))\n",
    "    decreasing = all(report[i] > report[i+1] for i in range(len(report)-1))\n",
    "    are_valid_differences = all(1<= abs(report[i]-report[i+1]) <= 3 for i in range(len(report) -1))\n",
    "    return (is_increasing or decreasing) and are_valid_differences\n",
    "\n",
    "def is_safe_from_damper(report): #recursive\n",
    "    if is_safe(report):\n",
    "        return True\n",
    "    for i in range(len(report)):\n",
    "        updated_report = report[:i] + report[i+1:]\n",
    "        if is_safe(updated_report):\n",
    "            return True\n",
    "    return False\n",
    "\n",
    "def total_safe_from_damper(reports):\n",
    "    return sum(is_safe_from_damper(report) for report in reports)\n",
    "\n",
    "if __name__ == \"__main__\":\n",
    "    reports = read_file('input.txt')\n",
    "    number_of_safe_reports=total_safe_from_damper(reports)\n",
    "    print(number_of_safe_reports)"
   ]
  },
  {
   "cell_type": "markdown",
   "metadata": {},
   "source": [
    "Time Complexity: O(2^n) (n=number of reports)\n",
    "\n",
    "is_safe_from_damper is recursive, generates all possible combinations.\n",
    "\n",
    "there's probably a better way of doing this."
   ]
  }
 ],
 "metadata": {
  "kernelspec": {
   "display_name": "Python 3",
   "language": "python",
   "name": "python3"
  },
  "language_info": {
   "codemirror_mode": {
    "name": "ipython",
    "version": 3
   },
   "file_extension": ".py",
   "mimetype": "text/x-python",
   "name": "python",
   "nbconvert_exporter": "python",
   "pygments_lexer": "ipython3",
   "version": "3.9.6"
  }
 },
 "nbformat": 4,
 "nbformat_minor": 2
}
